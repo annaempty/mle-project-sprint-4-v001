{
 "cells": [
  {
   "cell_type": "markdown",
   "id": "f4095ae4-7294-4b28-853e-88d235002c97",
   "metadata": {},
   "source": [
    "# Инициализация"
   ]
  },
  {
   "cell_type": "markdown",
   "id": "2f2318d2-9df8-4911-915e-15b725c44f8a",
   "metadata": {},
   "source": [
    "Загружаем библиотеки необходимые для выполнения кода ноутбука."
   ]
  },
  {
   "cell_type": "code",
   "execution_count": 3,
   "id": "662d04e7-1b0b-4e4a-9ddf-4526d7fef119",
   "metadata": {},
   "outputs": [],
   "source": [
    "import pandas as pd\n",
    "import numpy as np\n",
    "\n",
    "import matplotlib.pyplot as plt\n",
    "import seaborn as sns\n",
    "\n"
   ]
  },
  {
   "cell_type": "markdown",
   "id": "bf80fbc5-b660-4fac-8fbb-a5cae77313b3",
   "metadata": {},
   "source": [
    "# === ЭТАП 1 ==="
   ]
  },
  {
   "cell_type": "markdown",
   "id": "5263a8b3-fe99-4204-8a2e-105182792c11",
   "metadata": {},
   "source": [
    "# Загрузка первичных данных"
   ]
  },
  {
   "cell_type": "markdown",
   "id": "1b54a6a5-1656-4e3c-99d1-49dc39451d33",
   "metadata": {},
   "source": [
    "Загружаем первичные данные из файлов:\n",
    "- tracks.parquet\n",
    "- catalog_names.parquet\n",
    "- interactions.parquet"
   ]
  },
  {
   "cell_type": "code",
   "execution_count": 2,
   "id": "5d4b8961-3f35-4e58-9d6b-3e2dbd2c4224",
   "metadata": {},
   "outputs": [],
   "source": [
    "df_tracks = pd.read_parquet(\"data/tracks.parquet\")\n",
    "df_catalog = pd.read_parquet(\"data/catalog_names.parquet\")\n",
    "df_interactions = pd.read_parquet(\"data/interactions.parquet\")"
   ]
  },
  {
   "cell_type": "code",
   "execution_count": null,
   "id": "70f7bdfe-175c-45c1-a2e9-d99f0f33be2e",
   "metadata": {},
   "outputs": [],
   "source": []
  },
  {
   "cell_type": "markdown",
   "id": "e8f2a1f7-a05f-4f39-af90-5f4018aa6f9d",
   "metadata": {},
   "source": [
    "# Обзор данных"
   ]
  },
  {
   "cell_type": "markdown",
   "id": "46a85307-896c-4fac-9fcf-f0dffa90889e",
   "metadata": {},
   "source": [
    "Проверяем данные, есть ли с ними явные проблемы."
   ]
  },
  {
   "cell_type": "markdown",
   "id": "239b11a9",
   "metadata": {},
   "source": [
    "## tracks"
   ]
  },
  {
   "cell_type": "code",
   "execution_count": 20,
   "id": "5cd597dd",
   "metadata": {},
   "outputs": [
    {
     "data": {
      "text/html": [
       "<div>\n",
       "<style scoped>\n",
       "    .dataframe tbody tr th:only-of-type {\n",
       "        vertical-align: middle;\n",
       "    }\n",
       "\n",
       "    .dataframe tbody tr th {\n",
       "        vertical-align: top;\n",
       "    }\n",
       "\n",
       "    .dataframe thead th {\n",
       "        text-align: right;\n",
       "    }\n",
       "</style>\n",
       "<table border=\"1\" class=\"dataframe\">\n",
       "  <thead>\n",
       "    <tr style=\"text-align: right;\">\n",
       "      <th></th>\n",
       "      <th>track_id</th>\n",
       "      <th>albums</th>\n",
       "      <th>artists</th>\n",
       "      <th>genres</th>\n",
       "    </tr>\n",
       "  </thead>\n",
       "  <tbody>\n",
       "    <tr>\n",
       "      <th>200910</th>\n",
       "      <td>7321791</td>\n",
       "      <td>[774452]</td>\n",
       "      <td>[302220]</td>\n",
       "      <td>[19, 325]</td>\n",
       "    </tr>\n",
       "    <tr>\n",
       "      <th>950019</th>\n",
       "      <td>85301475</td>\n",
       "      <td>[16265111]</td>\n",
       "      <td>[3426001, 11117116]</td>\n",
       "      <td>[16]</td>\n",
       "    </tr>\n",
       "    <tr>\n",
       "      <th>849404</th>\n",
       "      <td>68480226</td>\n",
       "      <td>[11357176]</td>\n",
       "      <td>[2834315]</td>\n",
       "      <td>[11, 20]</td>\n",
       "    </tr>\n",
       "    <tr>\n",
       "      <th>933470</th>\n",
       "      <td>81342099</td>\n",
       "      <td>[15040575, 15261329, 15380084, 15668394, 16106...</td>\n",
       "      <td>[239112, 3152358]</td>\n",
       "      <td>[127, 335]</td>\n",
       "    </tr>\n",
       "    <tr>\n",
       "      <th>477750</th>\n",
       "      <td>33107564</td>\n",
       "      <td>[4042800, 4215556, 4502312, 4713774, 6090778, ...</td>\n",
       "      <td>[1611350]</td>\n",
       "      <td>[68, 127, 335]</td>\n",
       "    </tr>\n",
       "    <tr>\n",
       "      <th>784177</th>\n",
       "      <td>60883696</td>\n",
       "      <td>[9447822]</td>\n",
       "      <td>[8502216]</td>\n",
       "      <td>[2, 102]</td>\n",
       "    </tr>\n",
       "    <tr>\n",
       "      <th>849891</th>\n",
       "      <td>68560623</td>\n",
       "      <td>[11377666, 11377689, 12621649, 16579667]</td>\n",
       "      <td>[200277]</td>\n",
       "      <td>[11]</td>\n",
       "    </tr>\n",
       "    <tr>\n",
       "      <th>720142</th>\n",
       "      <td>53446122</td>\n",
       "      <td>[7637361]</td>\n",
       "      <td>[603307]</td>\n",
       "      <td>[21]</td>\n",
       "    </tr>\n",
       "    <tr>\n",
       "      <th>470021</th>\n",
       "      <td>32671135</td>\n",
       "      <td>[3984213]</td>\n",
       "      <td>[1582314]</td>\n",
       "      <td>[11, 20]</td>\n",
       "    </tr>\n",
       "    <tr>\n",
       "      <th>730264</th>\n",
       "      <td>54570565</td>\n",
       "      <td>[7879607]</td>\n",
       "      <td>[3277095]</td>\n",
       "      <td>[11]</td>\n",
       "    </tr>\n",
       "  </tbody>\n",
       "</table>\n",
       "</div>"
      ],
      "text/plain": [
       "        track_id                                             albums  \\\n",
       "200910   7321791                                           [774452]   \n",
       "950019  85301475                                         [16265111]   \n",
       "849404  68480226                                         [11357176]   \n",
       "933470  81342099  [15040575, 15261329, 15380084, 15668394, 16106...   \n",
       "477750  33107564  [4042800, 4215556, 4502312, 4713774, 6090778, ...   \n",
       "784177  60883696                                          [9447822]   \n",
       "849891  68560623           [11377666, 11377689, 12621649, 16579667]   \n",
       "720142  53446122                                          [7637361]   \n",
       "470021  32671135                                          [3984213]   \n",
       "730264  54570565                                          [7879607]   \n",
       "\n",
       "                    artists          genres  \n",
       "200910             [302220]       [19, 325]  \n",
       "950019  [3426001, 11117116]            [16]  \n",
       "849404            [2834315]        [11, 20]  \n",
       "933470    [239112, 3152358]      [127, 335]  \n",
       "477750            [1611350]  [68, 127, 335]  \n",
       "784177            [8502216]        [2, 102]  \n",
       "849891             [200277]            [11]  \n",
       "720142             [603307]            [21]  \n",
       "470021            [1582314]        [11, 20]  \n",
       "730264            [3277095]            [11]  "
      ]
     },
     "execution_count": 20,
     "metadata": {},
     "output_type": "execute_result"
    }
   ],
   "source": [
    "df_tracks.sample(10)"
   ]
  },
  {
   "cell_type": "code",
   "execution_count": 21,
   "id": "c9f8f17e-9b56-4f5a-a463-f694a993effb",
   "metadata": {},
   "outputs": [
    {
     "name": "stdout",
     "output_type": "stream",
     "text": [
      "<class 'pandas.core.frame.DataFrame'>\n",
      "Index: 980977 entries, 0 to 999999\n",
      "Data columns (total 4 columns):\n",
      " #   Column    Non-Null Count   Dtype \n",
      "---  ------    --------------   ----- \n",
      " 0   track_id  980977 non-null  int64 \n",
      " 1   albums    980977 non-null  object\n",
      " 2   artists   980977 non-null  object\n",
      " 3   genres    980977 non-null  object\n",
      "dtypes: int64(1), object(3)\n",
      "memory usage: 37.4+ MB\n"
     ]
    }
   ],
   "source": [
    "df_tracks.info()"
   ]
  },
  {
   "cell_type": "code",
   "execution_count": 22,
   "id": "a117e1b8",
   "metadata": {},
   "outputs": [
    {
     "data": {
      "text/plain": [
       "track_id    0\n",
       "albums      0\n",
       "artists     0\n",
       "genres      0\n",
       "dtype: int64"
      ]
     },
     "execution_count": 22,
     "metadata": {},
     "output_type": "execute_result"
    }
   ],
   "source": [
    "df_tracks.isna().sum()"
   ]
  },
  {
   "cell_type": "code",
   "execution_count": 31,
   "id": "86807043",
   "metadata": {},
   "outputs": [
    {
     "data": {
      "text/plain": [
       "0"
      ]
     },
     "execution_count": 31,
     "metadata": {},
     "output_type": "execute_result"
    }
   ],
   "source": [
    "df_tracks.track_id.duplicated().sum()"
   ]
  },
  {
   "cell_type": "code",
   "execution_count": 23,
   "id": "df476ed0",
   "metadata": {},
   "outputs": [
    {
     "name": "stdout",
     "output_type": "stream",
     "text": [
      "albums_isna: 0\n",
      "artists_isna: 0\n",
      "genres_isna: 0\n"
     ]
    }
   ],
   "source": [
    "for item in df_tracks.columns[1: ]:\n",
    "    isna = df_tracks[item].apply(lambda x: len(x) == 0).sum()\n",
    "    print(f\"{item}_isna: {isna}\")"
   ]
  },
  {
   "cell_type": "markdown",
   "id": "75437e83",
   "metadata": {},
   "source": [
    "## catalog_names"
   ]
  },
  {
   "cell_type": "code",
   "execution_count": 24,
   "id": "4ab99cdf",
   "metadata": {},
   "outputs": [
    {
     "data": {
      "text/html": [
       "<div>\n",
       "<style scoped>\n",
       "    .dataframe tbody tr th:only-of-type {\n",
       "        vertical-align: middle;\n",
       "    }\n",
       "\n",
       "    .dataframe tbody tr th {\n",
       "        vertical-align: top;\n",
       "    }\n",
       "\n",
       "    .dataframe thead th {\n",
       "        text-align: right;\n",
       "    }\n",
       "</style>\n",
       "<table border=\"1\" class=\"dataframe\">\n",
       "  <thead>\n",
       "    <tr style=\"text-align: right;\">\n",
       "      <th></th>\n",
       "      <th>id</th>\n",
       "      <th>type</th>\n",
       "      <th>name</th>\n",
       "    </tr>\n",
       "  </thead>\n",
       "  <tbody>\n",
       "    <tr>\n",
       "      <th>916712</th>\n",
       "      <td>1357112</td>\n",
       "      <td>track</td>\n",
       "      <td>Voices</td>\n",
       "    </tr>\n",
       "    <tr>\n",
       "      <th>1054404</th>\n",
       "      <td>14562406</td>\n",
       "      <td>track</td>\n",
       "      <td>Waters Rising</td>\n",
       "    </tr>\n",
       "    <tr>\n",
       "      <th>916491</th>\n",
       "      <td>1345767</td>\n",
       "      <td>track</td>\n",
       "      <td>الله على حبك</td>\n",
       "    </tr>\n",
       "    <tr>\n",
       "      <th>1225342</th>\n",
       "      <td>28343229</td>\n",
       "      <td>track</td>\n",
       "      <td>Birthday</td>\n",
       "    </tr>\n",
       "    <tr>\n",
       "      <th>421246</th>\n",
       "      <td>8152385</td>\n",
       "      <td>album</td>\n",
       "      <td>The Hype</td>\n",
       "    </tr>\n",
       "    <tr>\n",
       "      <th>301393</th>\n",
       "      <td>4922027</td>\n",
       "      <td>album</td>\n",
       "      <td>Sometimes</td>\n",
       "    </tr>\n",
       "    <tr>\n",
       "      <th>1156923</th>\n",
       "      <td>23127684</td>\n",
       "      <td>track</td>\n",
       "      <td>Lindy Lou</td>\n",
       "    </tr>\n",
       "    <tr>\n",
       "      <th>1045422</th>\n",
       "      <td>12800698</td>\n",
       "      <td>track</td>\n",
       "      <td>Lights Out</td>\n",
       "    </tr>\n",
       "    <tr>\n",
       "      <th>1258885</th>\n",
       "      <td>31169727</td>\n",
       "      <td>track</td>\n",
       "      <td>Атлантида</td>\n",
       "    </tr>\n",
       "    <tr>\n",
       "      <th>86866</th>\n",
       "      <td>881022</td>\n",
       "      <td>album</td>\n",
       "      <td>Samorost2</td>\n",
       "    </tr>\n",
       "  </tbody>\n",
       "</table>\n",
       "</div>"
      ],
      "text/plain": [
       "               id   type           name\n",
       "916712    1357112  track         Voices\n",
       "1054404  14562406  track  Waters Rising\n",
       "916491    1345767  track   الله على حبك\n",
       "1225342  28343229  track       Birthday\n",
       "421246    8152385  album       The Hype\n",
       "301393    4922027  album      Sometimes\n",
       "1156923  23127684  track      Lindy Lou\n",
       "1045422  12800698  track     Lights Out\n",
       "1258885  31169727  track      Атлантида\n",
       "86866      881022  album      Samorost2"
      ]
     },
     "execution_count": 24,
     "metadata": {},
     "output_type": "execute_result"
    }
   ],
   "source": [
    "df_catalog.sample(10)"
   ]
  },
  {
   "cell_type": "code",
   "execution_count": 25,
   "id": "a4ce08dd",
   "metadata": {},
   "outputs": [
    {
     "name": "stdout",
     "output_type": "stream",
     "text": [
      "<class 'pandas.core.frame.DataFrame'>\n",
      "Index: 1793448 entries, 0 to 1812470\n",
      "Data columns (total 3 columns):\n",
      " #   Column  Dtype \n",
      "---  ------  ----- \n",
      " 0   id      int64 \n",
      " 1   type    object\n",
      " 2   name    object\n",
      "dtypes: int64(1), object(2)\n",
      "memory usage: 54.7+ MB\n"
     ]
    }
   ],
   "source": [
    "df_catalog.info()"
   ]
  },
  {
   "cell_type": "code",
   "execution_count": 32,
   "id": "aad2e274",
   "metadata": {},
   "outputs": [
    {
     "data": {
      "text/plain": [
       "0"
      ]
     },
     "execution_count": 32,
     "metadata": {},
     "output_type": "execute_result"
    }
   ],
   "source": [
    "df_catalog[['id', 'type']].duplicated().sum()"
   ]
  },
  {
   "cell_type": "code",
   "execution_count": 26,
   "id": "573278de",
   "metadata": {},
   "outputs": [
    {
     "data": {
      "text/plain": [
       "id      0\n",
       "type    0\n",
       "name    0\n",
       "dtype: int64"
      ]
     },
     "execution_count": 26,
     "metadata": {},
     "output_type": "execute_result"
    }
   ],
   "source": [
    "df_catalog.isna().sum()"
   ]
  },
  {
   "cell_type": "code",
   "execution_count": 27,
   "id": "d3ab81aa",
   "metadata": {},
   "outputs": [
    {
     "data": {
      "text/html": [
       "<div>\n",
       "<style scoped>\n",
       "    .dataframe tbody tr th:only-of-type {\n",
       "        vertical-align: middle;\n",
       "    }\n",
       "\n",
       "    .dataframe tbody tr th {\n",
       "        vertical-align: top;\n",
       "    }\n",
       "\n",
       "    .dataframe thead th {\n",
       "        text-align: right;\n",
       "    }\n",
       "</style>\n",
       "<table border=\"1\" class=\"dataframe\">\n",
       "  <thead>\n",
       "    <tr style=\"text-align: right;\">\n",
       "      <th></th>\n",
       "      <th>id</th>\n",
       "    </tr>\n",
       "    <tr>\n",
       "      <th>type</th>\n",
       "      <th></th>\n",
       "    </tr>\n",
       "  </thead>\n",
       "  <tbody>\n",
       "    <tr>\n",
       "      <th>album</th>\n",
       "      <td>658724</td>\n",
       "    </tr>\n",
       "    <tr>\n",
       "      <th>artist</th>\n",
       "      <td>153581</td>\n",
       "    </tr>\n",
       "    <tr>\n",
       "      <th>genre</th>\n",
       "      <td>166</td>\n",
       "    </tr>\n",
       "    <tr>\n",
       "      <th>track</th>\n",
       "      <td>980977</td>\n",
       "    </tr>\n",
       "  </tbody>\n",
       "</table>\n",
       "</div>"
      ],
      "text/plain": [
       "            id\n",
       "type          \n",
       "album   658724\n",
       "artist  153581\n",
       "genre      166\n",
       "track   980977"
      ]
     },
     "execution_count": 27,
     "metadata": {},
     "output_type": "execute_result"
    }
   ],
   "source": [
    "df_catalog.groupby('type').agg({'id': 'count'})"
   ]
  },
  {
   "cell_type": "markdown",
   "id": "a3873c77",
   "metadata": {},
   "source": [
    "## interactions"
   ]
  },
  {
   "cell_type": "code",
   "execution_count": 28,
   "id": "586a0e38",
   "metadata": {},
   "outputs": [
    {
     "data": {
      "text/html": [
       "<div>\n",
       "<style scoped>\n",
       "    .dataframe tbody tr th:only-of-type {\n",
       "        vertical-align: middle;\n",
       "    }\n",
       "\n",
       "    .dataframe tbody tr th {\n",
       "        vertical-align: top;\n",
       "    }\n",
       "\n",
       "    .dataframe thead th {\n",
       "        text-align: right;\n",
       "    }\n",
       "</style>\n",
       "<table border=\"1\" class=\"dataframe\">\n",
       "  <thead>\n",
       "    <tr style=\"text-align: right;\">\n",
       "      <th></th>\n",
       "      <th>user_id</th>\n",
       "      <th>track_id</th>\n",
       "      <th>track_seq</th>\n",
       "      <th>started_at</th>\n",
       "    </tr>\n",
       "  </thead>\n",
       "  <tbody>\n",
       "    <tr>\n",
       "      <th>245</th>\n",
       "      <td>718698</td>\n",
       "      <td>3719794</td>\n",
       "      <td>246</td>\n",
       "      <td>2022-05-11</td>\n",
       "    </tr>\n",
       "    <tr>\n",
       "      <th>234</th>\n",
       "      <td>128252</td>\n",
       "      <td>15867060</td>\n",
       "      <td>235</td>\n",
       "      <td>2022-05-02</td>\n",
       "    </tr>\n",
       "    <tr>\n",
       "      <th>18</th>\n",
       "      <td>301992</td>\n",
       "      <td>32226743</td>\n",
       "      <td>19</td>\n",
       "      <td>2022-09-16</td>\n",
       "    </tr>\n",
       "    <tr>\n",
       "      <th>31</th>\n",
       "      <td>160884</td>\n",
       "      <td>60073</td>\n",
       "      <td>32</td>\n",
       "      <td>2022-05-30</td>\n",
       "    </tr>\n",
       "    <tr>\n",
       "      <th>118</th>\n",
       "      <td>201981</td>\n",
       "      <td>74682737</td>\n",
       "      <td>119</td>\n",
       "      <td>2022-09-19</td>\n",
       "    </tr>\n",
       "    <tr>\n",
       "      <th>120</th>\n",
       "      <td>197956</td>\n",
       "      <td>38883870</td>\n",
       "      <td>121</td>\n",
       "      <td>2022-12-12</td>\n",
       "    </tr>\n",
       "    <tr>\n",
       "      <th>288</th>\n",
       "      <td>969546</td>\n",
       "      <td>80408246</td>\n",
       "      <td>289</td>\n",
       "      <td>2022-12-11</td>\n",
       "    </tr>\n",
       "    <tr>\n",
       "      <th>118</th>\n",
       "      <td>388635</td>\n",
       "      <td>87834364</td>\n",
       "      <td>119</td>\n",
       "      <td>2022-12-04</td>\n",
       "    </tr>\n",
       "    <tr>\n",
       "      <th>480</th>\n",
       "      <td>488948</td>\n",
       "      <td>48591698</td>\n",
       "      <td>481</td>\n",
       "      <td>2022-08-09</td>\n",
       "    </tr>\n",
       "    <tr>\n",
       "      <th>73</th>\n",
       "      <td>1209760</td>\n",
       "      <td>27032843</td>\n",
       "      <td>74</td>\n",
       "      <td>2022-07-30</td>\n",
       "    </tr>\n",
       "  </tbody>\n",
       "</table>\n",
       "</div>"
      ],
      "text/plain": [
       "     user_id  track_id  track_seq started_at\n",
       "245   718698   3719794        246 2022-05-11\n",
       "234   128252  15867060        235 2022-05-02\n",
       "18    301992  32226743         19 2022-09-16\n",
       "31    160884     60073         32 2022-05-30\n",
       "118   201981  74682737        119 2022-09-19\n",
       "120   197956  38883870        121 2022-12-12\n",
       "288   969546  80408246        289 2022-12-11\n",
       "118   388635  87834364        119 2022-12-04\n",
       "480   488948  48591698        481 2022-08-09\n",
       "73   1209760  27032843         74 2022-07-30"
      ]
     },
     "execution_count": 28,
     "metadata": {},
     "output_type": "execute_result"
    }
   ],
   "source": [
    "df_interactions.sample(10)"
   ]
  },
  {
   "cell_type": "code",
   "execution_count": 29,
   "id": "315c6788",
   "metadata": {},
   "outputs": [
    {
     "name": "stdout",
     "output_type": "stream",
     "text": [
      "<class 'pandas.core.frame.DataFrame'>\n",
      "Index: 222184449 entries, 0 to 291\n",
      "Data columns (total 4 columns):\n",
      " #   Column      Dtype         \n",
      "---  ------      -----         \n",
      " 0   user_id     int32         \n",
      " 1   track_id    int32         \n",
      " 2   track_seq   int16         \n",
      " 3   started_at  datetime64[ns]\n",
      "dtypes: datetime64[ns](1), int16(1), int32(2)\n",
      "memory usage: 5.4 GB\n"
     ]
    }
   ],
   "source": [
    "df_interactions.info()"
   ]
  },
  {
   "cell_type": "code",
   "execution_count": 30,
   "id": "efd2e2eb-3bec-4ce1-87ac-232bab8bc0d0",
   "metadata": {},
   "outputs": [
    {
     "data": {
      "text/plain": [
       "id      0\n",
       "type    0\n",
       "name    0\n",
       "dtype: int64"
      ]
     },
     "execution_count": 30,
     "metadata": {},
     "output_type": "execute_result"
    }
   ],
   "source": [
    "df_catalog.isna().sum()"
   ]
  },
  {
   "cell_type": "markdown",
   "id": "318b573a-9e2d-4808-95db-60cfb8bbdb73",
   "metadata": {
    "editable": true,
    "slideshow": {
     "slide_type": ""
    },
    "tags": []
   },
   "source": [
    "# Выводы"
   ]
  },
  {
   "cell_type": "markdown",
   "id": "caa96e12-36a8-4401-8f11-98627a49ae9d",
   "metadata": {},
   "source": [
    "Приведём выводы по первому знакомству с данными:\n",
    "- есть ли с данными явные проблемы,\n",
    "- какие корректирующие действия (в целом) были предприняты.\n",
    "\n",
    "Итог:\n",
    "- Типы данных были считаны корректно. Нет необходимости в преобразовании или трансформации. \n",
    "- Есть пропущенные значения в датасете df_tracks. Наличие таких записей снижает качество данных и ограничивает применение большинства рекомендательных алгоритмов, поэтому необходимо удалить строки пропусками из датачсета.\n",
    "- Необходимо удалить взаимодействия пользователей, связанные с треками из пункта 2.\n"
   ]
  },
  {
   "cell_type": "code",
   "execution_count": 3,
   "id": "f58cd010-c2fa-475f-b7e9-767965cd4f55",
   "metadata": {},
   "outputs": [],
   "source": [
    "info_isna = (\n",
    "    (df_tracks['albums'].apply(lambda x: len(x) == 0)) \n",
    "    | (df_tracks['artists'].apply(lambda x: len(x) == 0)) \n",
    "    | (df_tracks['genres'].apply(lambda x: len(x) == 0))\n",
    ")"
   ]
  },
  {
   "cell_type": "code",
   "execution_count": 4,
   "id": "8d928c91",
   "metadata": {},
   "outputs": [
    {
     "name": "stdout",
     "output_type": "stream",
     "text": [
      "Треков с 1 и более пропусков: 19023\n"
     ]
    }
   ],
   "source": [
    "print(f\"Треков с 1 и более пропусков: {df_tracks[info_isna].shape[0]}\")"
   ]
  },
  {
   "cell_type": "code",
   "execution_count": 5,
   "id": "9eb65c5c-3c2a-412a-ab7e-30ec9da54fea",
   "metadata": {},
   "outputs": [],
   "source": [
    "\n",
    "track_id = df_tracks[info_isna].track_id\n",
    "df_tracks = df_tracks[~ df_tracks.track_id.isin(track_id)]\n",
    "df_interactions = df_interactions[~df_interactions.track_id.isin(track_id)]\n",
    "df_catalog = df_catalog[~ ((df_catalog.id.isin(track_id)) & (df_catalog.type == 'track') )]\n"
   ]
  },
  {
   "cell_type": "markdown",
   "id": "7bc3296b-eba6-4333-a78d-b9304aa87e3d",
   "metadata": {},
   "source": [
    "# === ЭТАП 2 ==="
   ]
  },
  {
   "cell_type": "markdown",
   "id": "68e73960-fd38-4e15-8db0-9a25c35dfd25",
   "metadata": {},
   "source": [
    "# EDA"
   ]
  },
  {
   "cell_type": "markdown",
   "id": "a30e823e-8e0f-4a76-a02e-8d1ba8bf0f8a",
   "metadata": {},
   "source": [
    "Распределение количества прослушанных треков."
   ]
  },
  {
   "cell_type": "code",
   "execution_count": 6,
   "id": "9bf5eaba-35f7-4da7-be59-9ab4a34b2423",
   "metadata": {},
   "outputs": [
    {
     "data": {
      "text/html": [
       "<div>\n",
       "<style scoped>\n",
       "    .dataframe tbody tr th:only-of-type {\n",
       "        vertical-align: middle;\n",
       "    }\n",
       "\n",
       "    .dataframe tbody tr th {\n",
       "        vertical-align: top;\n",
       "    }\n",
       "\n",
       "    .dataframe thead th {\n",
       "        text-align: right;\n",
       "    }\n",
       "</style>\n",
       "<table border=\"1\" class=\"dataframe\">\n",
       "  <thead>\n",
       "    <tr style=\"text-align: right;\">\n",
       "      <th></th>\n",
       "      <th>user_id</th>\n",
       "      <th>track_c</th>\n",
       "    </tr>\n",
       "  </thead>\n",
       "  <tbody>\n",
       "    <tr>\n",
       "      <th>0</th>\n",
       "      <td>0</td>\n",
       "      <td>26</td>\n",
       "    </tr>\n",
       "    <tr>\n",
       "      <th>1</th>\n",
       "      <td>1</td>\n",
       "      <td>36</td>\n",
       "    </tr>\n",
       "    <tr>\n",
       "      <th>2</th>\n",
       "      <td>2</td>\n",
       "      <td>14</td>\n",
       "    </tr>\n",
       "    <tr>\n",
       "      <th>3</th>\n",
       "      <td>3</td>\n",
       "      <td>33</td>\n",
       "    </tr>\n",
       "    <tr>\n",
       "      <th>4</th>\n",
       "      <td>4</td>\n",
       "      <td>255</td>\n",
       "    </tr>\n",
       "  </tbody>\n",
       "</table>\n",
       "</div>"
      ],
      "text/plain": [
       "   user_id  track_c\n",
       "0        0       26\n",
       "1        1       36\n",
       "2        2       14\n",
       "3        3       33\n",
       "4        4      255"
      ]
     },
     "execution_count": 6,
     "metadata": {},
     "output_type": "execute_result"
    }
   ],
   "source": [
    "df_count_track = df_interactions.groupby(['user_id'], as_index=False)\\\n",
    "    .agg({'track_id': 'count'}).rename(columns={'track_id': 'track_c'})\n",
    "df_count_track.head()"
   ]
  },
  {
   "cell_type": "code",
   "execution_count": 11,
   "id": "c942a6de",
   "metadata": {},
   "outputs": [
    {
     "data": {
      "image/png": "[encoded data removed]",
      "text/plain": [
       "<Figure size 640x480 with 1 Axes>"
      ]
     },
     "metadata": {},
     "output_type": "display_data"
    }
   ],
   "source": [
    "sns.histplot(data=df_count_track, x=\"track_c\", kde=True, log_scale=True, bins=150)\n",
    "plt.title(\"Распределение количества прослушанных треков (track_c)\")\n",
    "plt.xlabel(\"track_c\")\n",
    "plt.ylabel(\"Частота\")\n",
    "plt.show()"
   ]
  },
  {
   "cell_type": "markdown",
   "id": "d765519a-18dd-4d30-9e29-cc2d84cacd79",
   "metadata": {},
   "source": [
    "Наиболее популярные треки"
   ]
  },
  {
   "cell_type": "code",
   "execution_count": 12,
   "id": "aecaf630-fde0-4860-b84a-42c933a9606e",
   "metadata": {},
   "outputs": [
    {
     "data": {
      "text/html": [
       "<div>\n",
       "<style scoped>\n",
       "    .dataframe tbody tr th:only-of-type {\n",
       "        vertical-align: middle;\n",
       "    }\n",
       "\n",
       "    .dataframe tbody tr th {\n",
       "        vertical-align: top;\n",
       "    }\n",
       "\n",
       "    .dataframe thead th {\n",
       "        text-align: right;\n",
       "    }\n",
       "</style>\n",
       "<table border=\"1\" class=\"dataframe\">\n",
       "  <thead>\n",
       "    <tr style=\"text-align: right;\">\n",
       "      <th></th>\n",
       "      <th>track_id</th>\n",
       "      <th>user_с</th>\n",
       "    </tr>\n",
       "  </thead>\n",
       "  <tbody>\n",
       "    <tr>\n",
       "      <th>0</th>\n",
       "      <td>26</td>\n",
       "      <td>5</td>\n",
       "    </tr>\n",
       "    <tr>\n",
       "      <th>1</th>\n",
       "      <td>38</td>\n",
       "      <td>8</td>\n",
       "    </tr>\n",
       "    <tr>\n",
       "      <th>2</th>\n",
       "      <td>135</td>\n",
       "      <td>16</td>\n",
       "    </tr>\n",
       "    <tr>\n",
       "      <th>3</th>\n",
       "      <td>136</td>\n",
       "      <td>7</td>\n",
       "    </tr>\n",
       "    <tr>\n",
       "      <th>4</th>\n",
       "      <td>138</td>\n",
       "      <td>17</td>\n",
       "    </tr>\n",
       "  </tbody>\n",
       "</table>\n",
       "</div>"
      ],
      "text/plain": [
       "   track_id  user_с\n",
       "0        26       5\n",
       "1        38       8\n",
       "2       135      16\n",
       "3       136       7\n",
       "4       138      17"
      ]
     },
     "execution_count": 12,
     "metadata": {},
     "output_type": "execute_result"
    }
   ],
   "source": [
    "df_track_popular = df_interactions.groupby(['track_id'], as_index=False)\\\n",
    "    .agg({'user_id': 'count'}).rename(columns={'user_id': 'user_с'})\n",
    "df_track_popular.head()"
   ]
  },
  {
   "cell_type": "code",
   "execution_count": 14,
   "id": "7653ee4d",
   "metadata": {},
   "outputs": [],
   "source": [
    "df_track_popular_top = df_track_popular.sort_values('user_с', ascending=False).head(10)"
   ]
  },
  {
   "cell_type": "code",
   "execution_count": 18,
   "id": "66df6023",
   "metadata": {},
   "outputs": [
    {
     "data": {
      "text/html": [
       "<div>\n",
       "<style scoped>\n",
       "    .dataframe tbody tr th:only-of-type {\n",
       "        vertical-align: middle;\n",
       "    }\n",
       "\n",
       "    .dataframe tbody tr th {\n",
       "        vertical-align: top;\n",
       "    }\n",
       "\n",
       "    .dataframe thead th {\n",
       "        text-align: right;\n",
       "    }\n",
       "</style>\n",
       "<table border=\"1\" class=\"dataframe\">\n",
       "  <thead>\n",
       "    <tr style=\"text-align: right;\">\n",
       "      <th></th>\n",
       "      <th>track_id</th>\n",
       "      <th>user_с</th>\n",
       "      <th>id</th>\n",
       "      <th>type</th>\n",
       "      <th>name</th>\n",
       "    </tr>\n",
       "  </thead>\n",
       "  <tbody>\n",
       "    <tr>\n",
       "      <th>0</th>\n",
       "      <td>53404</td>\n",
       "      <td>111062</td>\n",
       "      <td>53404</td>\n",
       "      <td>track</td>\n",
       "      <td>Smells Like Teen Spirit</td>\n",
       "    </tr>\n",
       "    <tr>\n",
       "      <th>1</th>\n",
       "      <td>33311009</td>\n",
       "      <td>106921</td>\n",
       "      <td>33311009</td>\n",
       "      <td>track</td>\n",
       "      <td>Believer</td>\n",
       "    </tr>\n",
       "    <tr>\n",
       "      <th>2</th>\n",
       "      <td>178529</td>\n",
       "      <td>101924</td>\n",
       "      <td>178529</td>\n",
       "      <td>track</td>\n",
       "      <td>Numb</td>\n",
       "    </tr>\n",
       "    <tr>\n",
       "      <th>3</th>\n",
       "      <td>35505245</td>\n",
       "      <td>99490</td>\n",
       "      <td>35505245</td>\n",
       "      <td>track</td>\n",
       "      <td>I Got Love</td>\n",
       "    </tr>\n",
       "    <tr>\n",
       "      <th>4</th>\n",
       "      <td>65851540</td>\n",
       "      <td>86670</td>\n",
       "      <td>65851540</td>\n",
       "      <td>track</td>\n",
       "      <td>Юность</td>\n",
       "    </tr>\n",
       "    <tr>\n",
       "      <th>5</th>\n",
       "      <td>24692821</td>\n",
       "      <td>86246</td>\n",
       "      <td>24692821</td>\n",
       "      <td>track</td>\n",
       "      <td>Way Down We Go</td>\n",
       "    </tr>\n",
       "    <tr>\n",
       "      <th>6</th>\n",
       "      <td>32947997</td>\n",
       "      <td>85886</td>\n",
       "      <td>32947997</td>\n",
       "      <td>track</td>\n",
       "      <td>Shape of You</td>\n",
       "    </tr>\n",
       "    <tr>\n",
       "      <th>7</th>\n",
       "      <td>51241318</td>\n",
       "      <td>85244</td>\n",
       "      <td>51241318</td>\n",
       "      <td>track</td>\n",
       "      <td>In The End</td>\n",
       "    </tr>\n",
       "    <tr>\n",
       "      <th>8</th>\n",
       "      <td>795836</td>\n",
       "      <td>85042</td>\n",
       "      <td>795836</td>\n",
       "      <td>track</td>\n",
       "      <td>Shape Of My Heart</td>\n",
       "    </tr>\n",
       "    <tr>\n",
       "      <th>9</th>\n",
       "      <td>45499814</td>\n",
       "      <td>84748</td>\n",
       "      <td>45499814</td>\n",
       "      <td>track</td>\n",
       "      <td>Life</td>\n",
       "    </tr>\n",
       "  </tbody>\n",
       "</table>\n",
       "</div>"
      ],
      "text/plain": [
       "   track_id  user_с        id   type                     name\n",
       "0     53404  111062     53404  track  Smells Like Teen Spirit\n",
       "1  33311009  106921  33311009  track                 Believer\n",
       "2    178529  101924    178529  track                     Numb\n",
       "3  35505245   99490  35505245  track               I Got Love\n",
       "4  65851540   86670  65851540  track                   Юность\n",
       "5  24692821   86246  24692821  track           Way Down We Go\n",
       "6  32947997   85886  32947997  track             Shape of You\n",
       "7  51241318   85244  51241318  track               In The End\n",
       "8    795836   85042    795836  track        Shape Of My Heart\n",
       "9  45499814   84748  45499814  track                     Life"
      ]
     },
     "execution_count": 18,
     "metadata": {},
     "output_type": "execute_result"
    }
   ],
   "source": [
    "df_track_popular_top = df_track_popular_top.merge(df_catalog.query(\"type == 'track'\"), left_on='track_id', right_on='id', how='inner')\n",
    "df_track_popular_top"
   ]
  },
  {
   "cell_type": "markdown",
   "id": "b1c32a5a-d3be-4f96-8dd9-f7860951020c",
   "metadata": {},
   "source": [
    "Наиболее популярные жанры"
   ]
  },
  {
   "cell_type": "code",
   "execution_count": 37,
   "id": "1bc50491-9235-4d3c-a6c2-297f7c05a959",
   "metadata": {},
   "outputs": [],
   "source": [
    "df_genres_exploded = df_tracks.explode('genres')"
   ]
  },
  {
   "cell_type": "code",
   "execution_count": 43,
   "id": "a1796743",
   "metadata": {},
   "outputs": [],
   "source": [
    "df_genres_popular = df_track_popular.merge(df_genres_exploded, on='track_id', how='inner')\n",
    "df_genres_popular = df_genres_popular.groupby('genres', as_index=False).agg({'user_с': 'sum'})"
   ]
  },
  {
   "cell_type": "code",
   "execution_count": 50,
   "id": "568e9481",
   "metadata": {},
   "outputs": [],
   "source": [
    "df_genres_popular_top = df_genres_popular.sort_values('user_с', ascending=False).head(10)\n",
    "df_genres_popular_top = df_genres_popular_top.merge(df_catalog.query(\"type == 'genre'\"), left_on='genres', right_on='id', how='inner')"
   ]
  },
  {
   "cell_type": "code",
   "execution_count": 51,
   "id": "1cee44ad",
   "metadata": {},
   "outputs": [
    {
     "data": {
      "text/html": [
       "<div>\n",
       "<style scoped>\n",
       "    .dataframe tbody tr th:only-of-type {\n",
       "        vertical-align: middle;\n",
       "    }\n",
       "\n",
       "    .dataframe tbody tr th {\n",
       "        vertical-align: top;\n",
       "    }\n",
       "\n",
       "    .dataframe thead th {\n",
       "        text-align: right;\n",
       "    }\n",
       "</style>\n",
       "<table border=\"1\" class=\"dataframe\">\n",
       "  <thead>\n",
       "    <tr style=\"text-align: right;\">\n",
       "      <th></th>\n",
       "      <th>genres</th>\n",
       "      <th>user_с</th>\n",
       "      <th>id</th>\n",
       "      <th>type</th>\n",
       "      <th>name</th>\n",
       "    </tr>\n",
       "  </thead>\n",
       "  <tbody>\n",
       "    <tr>\n",
       "      <th>0</th>\n",
       "      <td>11</td>\n",
       "      <td>55578305</td>\n",
       "      <td>11</td>\n",
       "      <td>genre</td>\n",
       "      <td>pop</td>\n",
       "    </tr>\n",
       "    <tr>\n",
       "      <th>1</th>\n",
       "      <td>75</td>\n",
       "      <td>37799821</td>\n",
       "      <td>75</td>\n",
       "      <td>genre</td>\n",
       "      <td>rap</td>\n",
       "    </tr>\n",
       "    <tr>\n",
       "      <th>2</th>\n",
       "      <td>102</td>\n",
       "      <td>31091989</td>\n",
       "      <td>102</td>\n",
       "      <td>genre</td>\n",
       "      <td>allrock</td>\n",
       "    </tr>\n",
       "    <tr>\n",
       "      <th>3</th>\n",
       "      <td>20</td>\n",
       "      <td>26626234</td>\n",
       "      <td>20</td>\n",
       "      <td>genre</td>\n",
       "      <td>ruspop</td>\n",
       "    </tr>\n",
       "    <tr>\n",
       "      <th>4</th>\n",
       "      <td>3</td>\n",
       "      <td>25303695</td>\n",
       "      <td>3</td>\n",
       "      <td>genre</td>\n",
       "      <td>rusrap</td>\n",
       "    </tr>\n",
       "    <tr>\n",
       "      <th>5</th>\n",
       "      <td>68</td>\n",
       "      <td>20120694</td>\n",
       "      <td>68</td>\n",
       "      <td>genre</td>\n",
       "      <td>electronics</td>\n",
       "    </tr>\n",
       "    <tr>\n",
       "      <th>6</th>\n",
       "      <td>16</td>\n",
       "      <td>16291557</td>\n",
       "      <td>16</td>\n",
       "      <td>genre</td>\n",
       "      <td>dance</td>\n",
       "    </tr>\n",
       "    <tr>\n",
       "      <th>7</th>\n",
       "      <td>2</td>\n",
       "      <td>13166147</td>\n",
       "      <td>2</td>\n",
       "      <td>genre</td>\n",
       "      <td>rusrock</td>\n",
       "    </tr>\n",
       "    <tr>\n",
       "      <th>8</th>\n",
       "      <td>14</td>\n",
       "      <td>12772620</td>\n",
       "      <td>14</td>\n",
       "      <td>genre</td>\n",
       "      <td>rock</td>\n",
       "    </tr>\n",
       "    <tr>\n",
       "      <th>9</th>\n",
       "      <td>47</td>\n",
       "      <td>12437375</td>\n",
       "      <td>47</td>\n",
       "      <td>genre</td>\n",
       "      <td>metal</td>\n",
       "    </tr>\n",
       "  </tbody>\n",
       "</table>\n",
       "</div>"
      ],
      "text/plain": [
       "  genres    user_с   id   type         name\n",
       "0     11  55578305   11  genre          pop\n",
       "1     75  37799821   75  genre          rap\n",
       "2    102  31091989  102  genre      allrock\n",
       "3     20  26626234   20  genre       ruspop\n",
       "4      3  25303695    3  genre       rusrap\n",
       "5     68  20120694   68  genre  electronics\n",
       "6     16  16291557   16  genre        dance\n",
       "7      2  13166147    2  genre      rusrock\n",
       "8     14  12772620   14  genre         rock\n",
       "9     47  12437375   47  genre        metal"
      ]
     },
     "execution_count": 51,
     "metadata": {},
     "output_type": "execute_result"
    }
   ],
   "source": [
    "df_genres_popular_top"
   ]
  },
  {
   "cell_type": "markdown",
   "id": "15254e66-e80e-473b-ba24-abebea5ccac7",
   "metadata": {},
   "source": [
    "Треки, которые никто не прослушал"
   ]
  },
  {
   "cell_type": "code",
   "execution_count": 54,
   "id": "50bc50c6-2d83-4c7e-97fa-3e7627978438",
   "metadata": {},
   "outputs": [],
   "source": [
    "df_track_no_listen = df_track_popular.merge(df_tracks, on='track_id', how='right')\n",
    "df_track_no_listen = df_track_no_listen[df_track_no_listen.user_с.isna()]"
   ]
  },
  {
   "cell_type": "code",
   "execution_count": 57,
   "id": "9fcd7cc9",
   "metadata": {},
   "outputs": [
    {
     "data": {
      "text/plain": [
       "0"
      ]
     },
     "execution_count": 57,
     "metadata": {},
     "output_type": "execute_result"
    }
   ],
   "source": [
    "df_track_no_listen.shape[0]"
   ]
  },
  {
   "cell_type": "markdown",
   "id": "0d850a07-ef1e-462f-891a-1cf89f2e24ef",
   "metadata": {},
   "source": [
    "# Преобразование данных"
   ]
  },
  {
   "cell_type": "markdown",
   "id": "fabcf8d2-1192-4df5-b20b-fbb84689f57a",
   "metadata": {},
   "source": [
    "Преобразуем данные в формат, более пригодный для дальнейшего использования в расчётах рекомендаций."
   ]
  },
  {
   "cell_type": "code",
   "execution_count": null,
   "id": "a425556a-9382-45ca-a04e-f1981a522126",
   "metadata": {},
   "outputs": [],
   "source": [
    "df_items = df_tracks.rename(columns={'track_id': 'item_id'}).copy()\n",
    "\n",
    "df_events = df_interactions.rename(columns={'track_id': 'item_id'}).copy()"
   ]
  },
  {
   "cell_type": "markdown",
   "id": "4d1be653-eed8-4fa0-a9c5-3811b080d71d",
   "metadata": {},
   "source": [
    "# Сохранение данных"
   ]
  },
  {
   "cell_type": "markdown",
   "id": "36f1314a-3af3-4faf-a0b1-3045173d1500",
   "metadata": {},
   "source": [
    "Сохраним данные в двух файлах в персональном S3-бакете по пути `recsys/data/`:\n",
    "- `items.parquet` — все данные о музыкальных треках,\n",
    "- `events.parquet` — все данные о взаимодействиях."
   ]
  },
  {
   "cell_type": "code",
   "execution_count": null,
   "id": "20d7f03c",
   "metadata": {},
   "outputs": [],
   "source": [
    "df_items.to_parquet('data/items.parquet')\n",
    "df_events.to_parquet('data/events.parquet')"
   ]
  },
  {
   "cell_type": "code",
   "execution_count": null,
   "id": "9f77af17-7705-4fae-9aad-db579b39faad",
   "metadata": {},
   "outputs": [],
   "source": [
    "import boto3\n",
    "import os\n",
    " \n",
    "def get_session():\n",
    "    session = boto3.session.Session()\n",
    " \n",
    "    return session.client(\n",
    "        service_name='s3',\n",
    "        endpoint_url='https://storage.yandexcloud.net',\n",
    "        aws_access_key_id=os.getenv(\"AWS_ACCESS_KEY_ID\"),\n",
    "        aws_secret_access_key=os.getenv(\"AWS_SECRET_ACCESS_KEY\")\n",
    "    )\n",
    " \n",
    "bucket_name = \"s3-student-mle-20250513-c87f7369b8-freetrack\"\n",
    "s3_folder = \"recsys/\" \n",
    "local_files_path = [\"data/items.parquet\", \"data/events.parquet\"]\n",
    "\n",
    "s3 = get_session()\n",
    "\n",
    "\n",
    "for item in local_files_path:\n",
    "    s3.upload_file(item, bucket_name, s3_folder + item)"
   ]
  },
  {
   "cell_type": "markdown",
   "id": "72ecbbed-c560-44d9-9c14-86c7dc76f399",
   "metadata": {},
   "source": [
    "# Очистка памяти"
   ]
  },
  {
   "cell_type": "markdown",
   "id": "b5358ede-ba6e-4c4f-bd73-5b9344f0ba79",
   "metadata": {},
   "source": [
    "Здесь, может понадобится очистка памяти для высвобождения ресурсов для выполнения кода ниже. \n",
    "\n",
    "Приведите соответствующие код, комментарии, например:\n",
    "- код для удаление более ненужных переменных,\n",
    "- комментарий, что следует перезапустить kernel, выполнить такие-то начальные секции и продолжить с этапа 3."
   ]
  },
  {
   "cell_type": "code",
   "execution_count": null,
   "id": "767fe920-e12e-4ad8-b04e-56e8091fac9f",
   "metadata": {},
   "outputs": [],
   "source": [
    "import gc\n",
    "\n",
    "del df_catalog, df_events, df_items, df_tracks, df_interactions\n",
    "gc.collect()"
   ]
  },
  {
   "cell_type": "markdown",
   "id": "708503df-ee89-4cf3-8489-093dc478e2a8",
   "metadata": {},
   "source": [
    "# === ЭТАП 3 ==="
   ]
  },
  {
   "cell_type": "markdown",
   "id": "fd77de22-e10f-4b42-85c1-8fb6f805fe68",
   "metadata": {},
   "source": [
    "# Загрузка данных"
   ]
  },
  {
   "cell_type": "markdown",
   "id": "780a4241-1ecd-4a3e-bbb3-fc2f6ca94f68",
   "metadata": {},
   "source": [
    "Если необходимо, то загружаем items.parquet, events.parquet."
   ]
  },
  {
   "cell_type": "code",
   "execution_count": 2,
   "id": "f19fc8a5-bd2c-40d7-864a-ee75aca6d512",
   "metadata": {},
   "outputs": [],
   "source": [
    "df_items = pd.read_parquet(\"data/items.parquet\")\n",
    "df_events = pd.read_parquet(\"data/events.parquet\")\n",
    "df_catalog = pd.read_parquet(\"data/catalog_names.parquet\")"
   ]
  },
  {
   "cell_type": "code",
   "execution_count": 4,
   "id": "5db1e801-5845-4ce3-86f2-c2fa30f68cc5",
   "metadata": {},
   "outputs": [
    {
     "data": {
      "text/html": [
       "<div>\n",
       "<style scoped>\n",
       "    .dataframe tbody tr th:only-of-type {\n",
       "        vertical-align: middle;\n",
       "    }\n",
       "\n",
       "    .dataframe tbody tr th {\n",
       "        vertical-align: top;\n",
       "    }\n",
       "\n",
       "    .dataframe thead th {\n",
       "        text-align: right;\n",
       "    }\n",
       "</style>\n",
       "<table border=\"1\" class=\"dataframe\">\n",
       "  <thead>\n",
       "    <tr style=\"text-align: right;\">\n",
       "      <th></th>\n",
       "      <th>item_id</th>\n",
       "      <th>albums</th>\n",
       "      <th>artists</th>\n",
       "      <th>genres</th>\n",
       "    </tr>\n",
       "  </thead>\n",
       "  <tbody>\n",
       "    <tr>\n",
       "      <th>172971</th>\n",
       "      <td>4525364</td>\n",
       "      <td>[511630]</td>\n",
       "      <td>[239112]</td>\n",
       "      <td>[127, 335]</td>\n",
       "    </tr>\n",
       "    <tr>\n",
       "      <th>764119</th>\n",
       "      <td>58653205</td>\n",
       "      <td>[8924549]</td>\n",
       "      <td>[4318525]</td>\n",
       "      <td>[6, 70]</td>\n",
       "    </tr>\n",
       "    <tr>\n",
       "      <th>410776</th>\n",
       "      <td>28232188</td>\n",
       "      <td>[3373750]</td>\n",
       "      <td>[4288924]</td>\n",
       "      <td>[68]</td>\n",
       "    </tr>\n",
       "    <tr>\n",
       "      <th>79847</th>\n",
       "      <td>699862</td>\n",
       "      <td>[77091]</td>\n",
       "      <td>[209196]</td>\n",
       "      <td>[7, 112]</td>\n",
       "    </tr>\n",
       "    <tr>\n",
       "      <th>137838</th>\n",
       "      <td>2763701</td>\n",
       "      <td>[296549, 296945, 3354540, 3375381, 3861128, 59...</td>\n",
       "      <td>[48169]</td>\n",
       "      <td>[47, 157]</td>\n",
       "    </tr>\n",
       "    <tr>\n",
       "      <th>971180</th>\n",
       "      <td>90642713</td>\n",
       "      <td>[17945237, 19876845, 21423766]</td>\n",
       "      <td>[4947805, 5426588]</td>\n",
       "      <td>[44, 75]</td>\n",
       "    </tr>\n",
       "    <tr>\n",
       "      <th>698915</th>\n",
       "      <td>51488215</td>\n",
       "      <td>[7183238]</td>\n",
       "      <td>[6382690]</td>\n",
       "      <td>[3, 75]</td>\n",
       "    </tr>\n",
       "    <tr>\n",
       "      <th>465354</th>\n",
       "      <td>32412162</td>\n",
       "      <td>[3949535]</td>\n",
       "      <td>[303270]</td>\n",
       "      <td>[47, 308]</td>\n",
       "    </tr>\n",
       "    <tr>\n",
       "      <th>879728</th>\n",
       "      <td>72390183</td>\n",
       "      <td>[12445892, 12546467]</td>\n",
       "      <td>[5453005, 10173308, 5382299]</td>\n",
       "      <td>[68]</td>\n",
       "    </tr>\n",
       "    <tr>\n",
       "      <th>182953</th>\n",
       "      <td>5336180</td>\n",
       "      <td>[587096]</td>\n",
       "      <td>[1020197]</td>\n",
       "      <td>[19, 325]</td>\n",
       "    </tr>\n",
       "  </tbody>\n",
       "</table>\n",
       "</div>"
      ],
      "text/plain": [
       "         item_id                                             albums  \\\n",
       "172971   4525364                                           [511630]   \n",
       "764119  58653205                                          [8924549]   \n",
       "410776  28232188                                          [3373750]   \n",
       "79847     699862                                            [77091]   \n",
       "137838   2763701  [296549, 296945, 3354540, 3375381, 3861128, 59...   \n",
       "971180  90642713                     [17945237, 19876845, 21423766]   \n",
       "698915  51488215                                          [7183238]   \n",
       "465354  32412162                                          [3949535]   \n",
       "879728  72390183                               [12445892, 12546467]   \n",
       "182953   5336180                                           [587096]   \n",
       "\n",
       "                             artists      genres  \n",
       "172971                      [239112]  [127, 335]  \n",
       "764119                     [4318525]     [6, 70]  \n",
       "410776                     [4288924]        [68]  \n",
       "79847                       [209196]    [7, 112]  \n",
       "137838                       [48169]   [47, 157]  \n",
       "971180            [4947805, 5426588]    [44, 75]  \n",
       "698915                     [6382690]     [3, 75]  \n",
       "465354                      [303270]   [47, 308]  \n",
       "879728  [5453005, 10173308, 5382299]        [68]  \n",
       "182953                     [1020197]   [19, 325]  "
      ]
     },
     "execution_count": 4,
     "metadata": {},
     "output_type": "execute_result"
    }
   ],
   "source": [
    "df_items.sample(10)"
   ]
  },
  {
   "cell_type": "code",
   "execution_count": 5,
   "id": "a6b683fd",
   "metadata": {},
   "outputs": [
    {
     "data": {
      "text/html": [
       "<div>\n",
       "<style scoped>\n",
       "    .dataframe tbody tr th:only-of-type {\n",
       "        vertical-align: middle;\n",
       "    }\n",
       "\n",
       "    .dataframe tbody tr th {\n",
       "        vertical-align: top;\n",
       "    }\n",
       "\n",
       "    .dataframe thead th {\n",
       "        text-align: right;\n",
       "    }\n",
       "</style>\n",
       "<table border=\"1\" class=\"dataframe\">\n",
       "  <thead>\n",
       "    <tr style=\"text-align: right;\">\n",
       "      <th></th>\n",
       "      <th>user_id</th>\n",
       "      <th>item_id</th>\n",
       "      <th>track_seq</th>\n",
       "      <th>started_at</th>\n",
       "    </tr>\n",
       "  </thead>\n",
       "  <tbody>\n",
       "    <tr>\n",
       "      <th>13</th>\n",
       "      <td>696159</td>\n",
       "      <td>41764252</td>\n",
       "      <td>14</td>\n",
       "      <td>2022-09-22</td>\n",
       "    </tr>\n",
       "    <tr>\n",
       "      <th>21</th>\n",
       "      <td>426222</td>\n",
       "      <td>23252198</td>\n",
       "      <td>22</td>\n",
       "      <td>2022-05-08</td>\n",
       "    </tr>\n",
       "    <tr>\n",
       "      <th>76</th>\n",
       "      <td>142829</td>\n",
       "      <td>455887</td>\n",
       "      <td>77</td>\n",
       "      <td>2022-08-24</td>\n",
       "    </tr>\n",
       "    <tr>\n",
       "      <th>415</th>\n",
       "      <td>535994</td>\n",
       "      <td>91793680</td>\n",
       "      <td>416</td>\n",
       "      <td>2022-10-20</td>\n",
       "    </tr>\n",
       "    <tr>\n",
       "      <th>38</th>\n",
       "      <td>128993</td>\n",
       "      <td>9769</td>\n",
       "      <td>39</td>\n",
       "      <td>2022-01-03</td>\n",
       "    </tr>\n",
       "    <tr>\n",
       "      <th>1932</th>\n",
       "      <td>581343</td>\n",
       "      <td>30840415</td>\n",
       "      <td>1933</td>\n",
       "      <td>2022-09-09</td>\n",
       "    </tr>\n",
       "    <tr>\n",
       "      <th>596</th>\n",
       "      <td>1370107</td>\n",
       "      <td>88651174</td>\n",
       "      <td>597</td>\n",
       "      <td>2022-12-25</td>\n",
       "    </tr>\n",
       "    <tr>\n",
       "      <th>91</th>\n",
       "      <td>1267949</td>\n",
       "      <td>59251631</td>\n",
       "      <td>92</td>\n",
       "      <td>2022-07-29</td>\n",
       "    </tr>\n",
       "    <tr>\n",
       "      <th>2038</th>\n",
       "      <td>448434</td>\n",
       "      <td>5185272</td>\n",
       "      <td>2039</td>\n",
       "      <td>2022-06-16</td>\n",
       "    </tr>\n",
       "    <tr>\n",
       "      <th>159</th>\n",
       "      <td>613386</td>\n",
       "      <td>123434</td>\n",
       "      <td>160</td>\n",
       "      <td>2022-02-22</td>\n",
       "    </tr>\n",
       "  </tbody>\n",
       "</table>\n",
       "</div>"
      ],
      "text/plain": [
       "      user_id   item_id  track_seq started_at\n",
       "13     696159  41764252         14 2022-09-22\n",
       "21     426222  23252198         22 2022-05-08\n",
       "76     142829    455887         77 2022-08-24\n",
       "415    535994  91793680        416 2022-10-20\n",
       "38     128993      9769         39 2022-01-03\n",
       "1932   581343  30840415       1933 2022-09-09\n",
       "596   1370107  88651174        597 2022-12-25\n",
       "91    1267949  59251631         92 2022-07-29\n",
       "2038   448434   5185272       2039 2022-06-16\n",
       "159    613386    123434        160 2022-02-22"
      ]
     },
     "execution_count": 5,
     "metadata": {},
     "output_type": "execute_result"
    }
   ],
   "source": [
    "df_events.sample(10)"
   ]
  },
  {
   "cell_type": "markdown",
   "id": "a694c023-6477-490b-939d-1cfa6f5f1b72",
   "metadata": {},
   "source": [
    "# Разбиение данных"
   ]
  },
  {
   "cell_type": "markdown",
   "id": "fbd5f6e0-54e7-4428-8678-eabce505d82c",
   "metadata": {},
   "source": [
    "Разбиваем данные на тренировочную, тестовую выборки.  \n",
    "Разбейте данные на тренировочную и тестовую выборки: в тренировочную отнесите все данные до 16 декабря 2022 года (не включительно)."
   ]
  },
  {
   "cell_type": "code",
   "execution_count": 6,
   "id": "00c2dfa5-d8a2-47d1-922e-6eefee2c62d1",
   "metadata": {},
   "outputs": [
    {
     "name": "stdout",
     "output_type": "stream",
     "text": [
      "Train shape: (208334360, 4), Test shape: (13850089, 4)\n",
      "Train persent: 0.94, Test persent: 0.06\n",
      "Граница разделения: 2022-12-16\n",
      "Train период: 2022-01-01 — 2022-12-15\n",
      "Test период:  2022-12-16 — 2022-12-31\n"
     ]
    }
   ],
   "source": [
    "import pandas as pd\n",
    "\n",
    "def train_test_split_by_date(df: pd.DataFrame, date_col: str, split_date: str):\n",
    "\n",
    "    df = df.copy()\n",
    "    all = df.shape[0]\n",
    "    df[date_col] = pd.to_datetime(df[date_col])\n",
    "\n",
    "    train = df[df[date_col] < pd.Timestamp(split_date)]\n",
    "    test = df[df[date_col] >= pd.Timestamp(split_date)]\n",
    "\n",
    "    print(f\"Train shape: {train.shape}, Test shape: {test.shape}\")\n",
    "    print(f\"Train persent: {round(train.shape[0] / all, 2)}, Test persent: {round(test.shape[0] / all, 2)}\")\n",
    "    print(f\"Граница разделения: {split_date}\")\n",
    "    print(f\"Train период: {train[date_col].min().date()} — {train[date_col].max().date()}\")\n",
    "    print(f\"Test период:  {test[date_col].min().date()} — {test[date_col].max().date()}\")\n",
    "\n",
    "    return train, test\n",
    "\n",
    "events_train, events_test = train_test_split_by_date(df_events, 'started_at', '2022-12-16')"
   ]
  },
  {
   "cell_type": "markdown",
   "id": "9131c7e6-8852-4556-b510-51f7253cc299",
   "metadata": {},
   "source": [
    "# Топ популярных"
   ]
  },
  {
   "cell_type": "markdown",
   "id": "dd70d43a-88cc-4719-b291-feaed7136f30",
   "metadata": {},
   "source": [
    "Рассчитаем рекомендации как топ популярных.\n",
    "\n",
    "Будем брать данные только из трейна "
   ]
  },
  {
   "cell_type": "code",
   "execution_count": 7,
   "id": "ee45e200-b7d6-4f56-9077-aad431689b96",
   "metadata": {},
   "outputs": [],
   "source": [
    "df_track_top = events_train\\\n",
    "    .groupby('item_id', as_index=False)\\\n",
    "    .agg({'user_id': 'nunique'})\\\n",
    "    .rename(columns={'user_id': 'unique_user_c'})\\\n",
    "    .sort_values('unique_user_c', ascending=False)\\\n",
    "    .head(100)"
   ]
  },
  {
   "cell_type": "code",
   "execution_count": 8,
   "id": "2fe0d166",
   "metadata": {},
   "outputs": [
    {
     "data": {
      "text/html": [
       "<div>\n",
       "<style scoped>\n",
       "    .dataframe tbody tr th:only-of-type {\n",
       "        vertical-align: middle;\n",
       "    }\n",
       "\n",
       "    .dataframe tbody tr th {\n",
       "        vertical-align: top;\n",
       "    }\n",
       "\n",
       "    .dataframe thead th {\n",
       "        text-align: right;\n",
       "    }\n",
       "</style>\n",
       "<table border=\"1\" class=\"dataframe\">\n",
       "  <thead>\n",
       "    <tr style=\"text-align: right;\">\n",
       "      <th></th>\n",
       "      <th>item_id</th>\n",
       "      <th>unique_user_c</th>\n",
       "    </tr>\n",
       "  </thead>\n",
       "  <tbody>\n",
       "    <tr>\n",
       "      <th>9092</th>\n",
       "      <td>53404</td>\n",
       "      <td>110026</td>\n",
       "    </tr>\n",
       "    <tr>\n",
       "      <th>481767</th>\n",
       "      <td>33311009</td>\n",
       "      <td>101076</td>\n",
       "    </tr>\n",
       "    <tr>\n",
       "      <th>26638</th>\n",
       "      <td>178529</td>\n",
       "      <td>100866</td>\n",
       "    </tr>\n",
       "    <tr>\n",
       "      <th>509948</th>\n",
       "      <td>35505245</td>\n",
       "      <td>95523</td>\n",
       "    </tr>\n",
       "    <tr>\n",
       "      <th>366387</th>\n",
       "      <td>24692821</td>\n",
       "      <td>84153</td>\n",
       "    </tr>\n",
       "  </tbody>\n",
       "</table>\n",
       "</div>"
      ],
      "text/plain": [
       "         item_id  unique_user_c\n",
       "9092       53404         110026\n",
       "481767  33311009         101076\n",
       "26638     178529         100866\n",
       "509948  35505245          95523\n",
       "366387  24692821          84153"
      ]
     },
     "execution_count": 8,
     "metadata": {},
     "output_type": "execute_result"
    }
   ],
   "source": [
    "df_track_top.head()"
   ]
  },
  {
   "cell_type": "code",
   "execution_count": 9,
   "id": "2dd11bc6",
   "metadata": {},
   "outputs": [],
   "source": [
    "path_top_100 = \"recommendations/top_popular.parquet\"\n",
    "df_track_top.to_parquet(path_top_100)"
   ]
  },
  {
   "cell_type": "code",
   "execution_count": null,
   "id": "7690c86f-7aa9-46ed-bba5-2c837626411e",
   "metadata": {},
   "outputs": [],
   "source": [
    "import boto3\n",
    "import os\n",
    " \n",
    "def get_session():\n",
    "    session = boto3.session.Session()\n",
    " \n",
    "    return session.client(\n",
    "        service_name='s3',\n",
    "        endpoint_url='https://storage.yandexcloud.net',\n",
    "        aws_access_key_id=os.getenv(\"AWS_ACCESS_KEY_ID\"),\n",
    "        aws_secret_access_key=os.getenv(\"AWS_SECRET_ACCESS_KEY\")\n",
    "    )\n",
    " \n",
    "bucket_name = \"s3-student-mle-20250513-c87f7369b8-freetrack\"\n",
    "s3_folder = \"recsys/\" \n",
    "local_files_path = [path_top_100]\n",
    "\n",
    "s3 = get_session()\n",
    "\n",
    "\n",
    "for item in local_files_path:\n",
    "    s3.upload_file(item, bucket_name, s3_folder + item)"
   ]
  },
  {
   "cell_type": "markdown",
   "id": "2ad231f2-6158-421a-b7fa-01d8bc3ed572",
   "metadata": {},
   "source": [
    "# Персональные"
   ]
  },
  {
   "cell_type": "markdown",
   "id": "86159460-cd9d-4b63-8248-604ea3c9aebf",
   "metadata": {},
   "source": [
    "Рассчитаем персональные рекомендации.  \n",
    "Так как track_seq — номер места трека в истории пользователя, будем использовать это значение как рейтинг"
   ]
  },
  {
   "cell_type": "code",
   "execution_count": null,
   "id": "5dfb5195",
   "metadata": {},
   "outputs": [],
   "source": [
    "import scipy\n",
    "import sklearn.preprocessing\n",
    "\n",
    "user_encoder = sklearn.preprocessing.LabelEncoder()\n",
    "user_encoder.fit(df_events[\"user_id\"])\n",
    "events_train[\"user_id_enc\"] = user_encoder.transform(events_train[\"user_id\"])\n",
    "events_test[\"user_id_enc\"] = user_encoder.transform(events_test[\"user_id\"])\n",
    "\n",
    "item_encoder = sklearn.preprocessing.LabelEncoder()\n",
    "item_encoder.fit(df_items[\"item_id\"])\n",
    "df_items[\"item_id_enc\"] = item_encoder.transform(df_items[\"item_id\"])\n",
    "events_train[\"item_id_enc\"] = item_encoder.transform(events_train[\"item_id\"])\n",
    "events_test[\"item_id_enc\"] = item_encoder.transform(events_test[\"item_id\"])"
   ]
  },
  {
   "cell_type": "code",
   "execution_count": 18,
   "id": "d2944822-569c-4f9b-82dc-70a7fa2d542e",
   "metadata": {},
   "outputs": [
    {
     "data": {
      "text/plain": [
       "<Compressed Sparse Row sparse matrix of dtype 'int8'\n",
       "\twith 208334360 stored elements and shape (1372767, 980977)>"
      ]
     },
     "execution_count": 18,
     "metadata": {},
     "output_type": "execute_result"
    }
   ],
   "source": [
    "user_item_matrix_train = scipy.sparse.csr_matrix(\n",
    "    (\n",
    "    events_train[\"track_seq\"],\n",
    "    (events_train[\"user_id_enc\"], events_train[\"item_id_enc\"])\n",
    "    ),\n",
    "    dtype=np.int8\n",
    ")\n",
    "user_item_matrix_train"
   ]
  },
  {
   "cell_type": "code",
   "execution_count": 19,
   "id": "1e8cdb58-3a8c-45ad-8e5f-7f950314aa56",
   "metadata": {},
   "outputs": [
    {
     "name": "stderr",
     "output_type": "stream",
     "text": [
      "/home/mle-user/env_recsys_start/lib/python3.10/site-packages/tqdm/auto.py:21: TqdmWarning: IProgress not found. Please update jupyter and ipywidgets. See https://ipywidgets.readthedocs.io/en/stable/user_install.html\n",
      "  from .autonotebook import tqdm as notebook_tqdm\n",
      "/home/mle-user/env_recsys_start/lib/python3.10/site-packages/implicit/cpu/als.py:95: RuntimeWarning: OpenBLAS is configured to use 4 threads. It is highly recommended to disable its internal threadpool by setting the environment variable 'OPENBLAS_NUM_THREADS=1' or by calling 'threadpoolctl.threadpool_limits(1, \"blas\")'. Having OpenBLAS use a threadpool can lead to severe performance issues here.\n",
      "  check_blas_config()\n",
      "100%|██████████| 50/50 [1:06:43<00:00, 80.07s/it]\n"
     ]
    }
   ],
   "source": [
    "from implicit.als import AlternatingLeastSquares\n",
    "\n",
    "als_model = AlternatingLeastSquares(factors=50, iterations=50, regularization=0.05, random_state=0)\n",
    "als_model.fit(user_item_matrix_train) "
   ]
  },
  {
   "cell_type": "code",
   "execution_count": null,
   "id": "3a24dea6",
   "metadata": {},
   "outputs": [],
   "source": [
    "als_model.save(\"model/als_model\")"
   ]
  },
  {
   "cell_type": "code",
   "execution_count": null,
   "id": "22e244e0",
   "metadata": {},
   "outputs": [],
   "source": []
  },
  {
   "cell_type": "code",
   "execution_count": null,
   "id": "d53adc40",
   "metadata": {},
   "outputs": [],
   "source": []
  },
  {
   "cell_type": "markdown",
   "id": "5f09dc7e-7c91-4355-860a-b9cfb9f33f15",
   "metadata": {},
   "source": [
    "# Похожие"
   ]
  },
  {
   "cell_type": "markdown",
   "id": "1dfcb683-b440-40a8-9975-894156a53872",
   "metadata": {},
   "source": [
    "Рассчитаем похожие, они позже пригодятся для онлайн-рекомендаций."
   ]
  },
  {
   "cell_type": "code",
   "execution_count": null,
   "id": "a75d07ee-4b12-4ce5-aa85-e45cb7a7a4f0",
   "metadata": {},
   "outputs": [],
   "source": []
  },
  {
   "cell_type": "code",
   "execution_count": null,
   "id": "ce370904-4c49-4152-8706-416074ea9b9a",
   "metadata": {},
   "outputs": [],
   "source": []
  },
  {
   "cell_type": "markdown",
   "id": "0087a3e7-ca9f-42cd-944c-944222c1baef",
   "metadata": {},
   "source": [
    "# Построение признаков"
   ]
  },
  {
   "cell_type": "markdown",
   "id": "e82a32e1-b90b-4eaf-9439-fc8deab9f34b",
   "metadata": {},
   "source": [
    "Построим три признака, можно больше, для ранжирующей модели."
   ]
  },
  {
   "cell_type": "code",
   "execution_count": null,
   "id": "05b4ae84-406a-44a4-abec-4f80f93e3004",
   "metadata": {},
   "outputs": [],
   "source": []
  },
  {
   "cell_type": "code",
   "execution_count": null,
   "id": "00f84c35-f544-4c3d-ad53-9b1d2b684c75",
   "metadata": {},
   "outputs": [],
   "source": []
  },
  {
   "cell_type": "markdown",
   "id": "47bcf88d-b236-46f0-a6f3-38ddd64895fe",
   "metadata": {},
   "source": [
    "# Ранжирование рекомендаций"
   ]
  },
  {
   "cell_type": "markdown",
   "id": "e8cd8223-3418-4493-8c87-1f76286ebda0",
   "metadata": {},
   "source": [
    "Построим ранжирующую модель, чтобы сделать рекомендации более точными. Отранжируем рекомендации."
   ]
  },
  {
   "cell_type": "code",
   "execution_count": null,
   "id": "79f1dd92-32a9-463d-827e-8bb9ee5bbb54",
   "metadata": {},
   "outputs": [],
   "source": []
  },
  {
   "cell_type": "code",
   "execution_count": null,
   "id": "6dbe4db4-1ac5-44da-a13c-8e7f9768ab73",
   "metadata": {},
   "outputs": [],
   "source": []
  },
  {
   "cell_type": "markdown",
   "id": "b3c84071-45b5-4a15-a683-e0ab034a3128",
   "metadata": {},
   "source": [
    "# Оценка качества"
   ]
  },
  {
   "cell_type": "markdown",
   "id": "1b107fe4-554e-42b1-87d9-c435a52bb77a",
   "metadata": {},
   "source": [
    "Проверим оценку качества трёх типов рекомендаций: \n",
    "\n",
    "- топ популярных,\n",
    "- персональных, полученных при помощи ALS,\n",
    "- итоговых\n",
    "  \n",
    "по четырем метрикам: recall, precision, coverage, novelty."
   ]
  },
  {
   "cell_type": "code",
   "execution_count": null,
   "id": "94d6f388-aecb-443e-8647-14014e932d4d",
   "metadata": {},
   "outputs": [],
   "source": []
  },
  {
   "cell_type": "code",
   "execution_count": null,
   "id": "26df411f-14c1-4848-8797-f37afe449cc6",
   "metadata": {},
   "outputs": [],
   "source": []
  },
  {
   "cell_type": "markdown",
   "id": "f1c8d38c-32b0-46a4-96f0-cd01dac708bc",
   "metadata": {},
   "source": [
    "# === Выводы, метрики ==="
   ]
  },
  {
   "cell_type": "markdown",
   "id": "f7d7d5d8-7d1e-4fdf-a6cd-83e5ce92c684",
   "metadata": {},
   "source": [
    "Основные выводы при работе над расчётом рекомендаций, рассчитанные метрики."
   ]
  },
  {
   "cell_type": "code",
   "execution_count": null,
   "id": "6403097d-db36-46d9-8952-613c9bd51b05",
   "metadata": {},
   "outputs": [],
   "source": []
  },
  {
   "cell_type": "code",
   "execution_count": null,
   "id": "986cfdd5-6f2e-4de6-8666-85804c87d04b",
   "metadata": {},
   "outputs": [],
   "source": []
  }
 ],
 "metadata": {
  "kernelspec": {
   "display_name": "env_recsys_start",
   "language": "python",
   "name": "python3"
  },
  "language_info": {
   "codemirror_mode": {
    "name": "ipython",
    "version": 3
   },
   "file_extension": ".py",
   "mimetype": "text/x-python",
   "name": "python",
   "nbconvert_exporter": "python",
   "pygments_lexer": "ipython3",
   "version": "3.10.12"
  }
 },
 "nbformat": 4,
 "nbformat_minor": 5
}
